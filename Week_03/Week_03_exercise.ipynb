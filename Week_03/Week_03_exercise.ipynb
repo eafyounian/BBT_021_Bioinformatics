{
 "cells": [
  {
   "cell_type": "markdown",
   "id": "endangered-establishment",
   "metadata": {},
   "source": [
    "# Week 03 exercises"
   ]
  },
  {
   "cell_type": "markdown",
   "id": "empirical-honey",
   "metadata": {},
   "source": [
    "Python is a general purpose programming language. To be able to do biological computation, we either need to write extra Python codes/scripts ourselves for a given computation or we can use some ready-made tools or modules. `Biopython` is a module that extends the capabilities of Python programming language in terms of biological computation. In this exercise, we use `Biopython`.  "
   ]
  },
  {
   "cell_type": "markdown",
   "id": "talented-rugby",
   "metadata": {},
   "source": [
    "## Inspecting the contents of a `FASTQ` file with command line"
   ]
  },
  {
   "cell_type": "markdown",
   "id": "danish-mumbai",
   "metadata": {},
   "source": [
    "First, skim through [this](https://en.wikipedia.org/wiki/FASTQ_format) Wikipedia entry about `FASTQ` file and familiarize yourself with its format. "
   ]
  },
  {
   "cell_type": "markdown",
   "id": "authorized-thought",
   "metadata": {},
   "source": [
    "Using JupyterLab Launcher, open a terminal. Use command `cd` to change the directory to `BBT_021_Bioinformatics/Week_03`. Use `ls -lh` command to list the content of the directory (**note**: You can use [explainshell](https://explainshell.com/) website to get an explanation of what `ls -lh` do). Inspect the list and answer the following **ungraded** questions:\n",
    "\n",
    "- How many files are there ending with `.fastq`?\n",
    "- What are the sizes of the files ending with `.fastq`?"
   ]
  },
  {
   "cell_type": "markdown",
   "id": "alleged-blink",
   "metadata": {},
   "source": [
    "Use `head -n8 week_03_sample_r1.fastq` to show the first `8` lines of the `week_03_sample_r1.fastq` FASTQ file in the terminal. Check the results and see if what you see follows the description in the Wikipedia entry.\n",
    "Answer the following questions just by looking at the result in the terminal (no need to write any extra commands):\n",
    "- To how many sequencing reads do these 8 lines correspond (also answer in Moodle)?\n",
    "- What is the **first base** in the **first sequencing read** (also answer in Moodle)?\n",
    "- What is the **last base** in the **first sequencing read** (also answer in Moodle)?\n",
    "- What is the character annotation of the **phred quality score** for the **first base** in the **first sequencing read** (also answer in Moodle)?\n",
    "- What is the character annotation of the **phred quality score** for the **last base** in the **first sequencing read** (also answer in Moodle)?"
   ]
  },
  {
   "cell_type": "markdown",
   "id": "confidential-middle",
   "metadata": {},
   "source": [
    "Once you are done with answering the questions above, you can type `exit` in the terminal to exit the terminal. "
   ]
  },
  {
   "cell_type": "markdown",
   "id": "going-network",
   "metadata": {},
   "source": [
    "## Inspecting the contents of a `FASTQ` file with `Biopython`"
   ]
  },
  {
   "cell_type": "markdown",
   "id": "cooperative-breed",
   "metadata": {},
   "source": [
    "The following cell installs `Biopython` module. Normally, we install it once, but here, we have to run it every time we use `GenePattern`."
   ]
  },
  {
   "cell_type": "code",
   "execution_count": null,
   "id": "durable-frost",
   "metadata": {},
   "outputs": [],
   "source": [
    "pip install biopython"
   ]
  },
  {
   "cell_type": "code",
   "execution_count": null,
   "id": "gentle-airfare",
   "metadata": {},
   "outputs": [],
   "source": [
    "## The following line loads the necessary modules and sets the configurations to plot \n",
    "import matplotlib as mpl\n",
    "mpl.use('Agg')\n",
    "import matplotlib.pyplot as plt\n",
    "%matplotlib inline\n",
    "\n",
    "## This load the standard Sequence Input/Output interface for BioPython \n",
    "## that provides us with functionality to work with sequences\n",
    "from Bio import SeqIO"
   ]
  },
  {
   "cell_type": "markdown",
   "id": "prescribed-submission",
   "metadata": {},
   "source": [
    "In this week's directory, we have 2 `FASTQ` files for `1` sample. We have `2` files because the data is obtained from a **paired-end sequencing** experiment. The file having `r1.fastq` contains the `read1`s and file having `r2.fastq` contains the `read2`s. We can check this using the `ls` command."
   ]
  },
  {
   "cell_type": "code",
   "execution_count": null,
   "id": "gothic-constitutional",
   "metadata": {},
   "outputs": [],
   "source": [
    "ls"
   ]
  },
  {
   "cell_type": "markdown",
   "id": "increasing-stylus",
   "metadata": {},
   "source": [
    "### Loading a `FASTQ` file using a Biopython function"
   ]
  },
  {
   "cell_type": "markdown",
   "id": "impaired-deployment",
   "metadata": {},
   "source": [
    "We can use `SeqIO.parse()` to load a file containing sequences and go through its contents."
   ]
  },
  {
   "cell_type": "code",
   "execution_count": null,
   "id": "homeless-deputy",
   "metadata": {},
   "outputs": [],
   "source": [
    "## The contents of week_03_sample_r1.fastq are now loaded\n",
    "## appropriately in SeqRecords variable\n",
    "SeqRecords = SeqIO.parse(\"week_03_sample_r1.fastq\", \"fastq\")"
   ]
  },
  {
   "cell_type": "markdown",
   "id": "premier-apparel",
   "metadata": {},
   "source": [
    "We can use `next()` function to take the first record in `SeqRecords`. Next time we use this function, we get the next record. We can use this function as many times as there are records. After that, if we use it, we get an `StopIteration` error message."
   ]
  },
  {
   "cell_type": "code",
   "execution_count": null,
   "id": "reasonable-newfoundland",
   "metadata": {},
   "outputs": [],
   "source": [
    "## We get the first record in the SeqRecords and put it in a variable called sequence_record.\n",
    "sequence_record = next(SeqRecords)"
   ]
  },
  {
   "cell_type": "markdown",
   "id": "level-fraud",
   "metadata": {},
   "source": [
    "Remember that we said that a record in a `FASTQ` file has occupies 4 lines. A sequence identifier, raw sequence, a line that is most of the time begins with a `+` character, and the quality value for the sequence on line 2.   \n",
    "\n",
    "We can extract these line for each record as follows:"
   ]
  },
  {
   "cell_type": "markdown",
   "id": "modular-passage",
   "metadata": {},
   "source": [
    "### Extract the sequence identifier"
   ]
  },
  {
   "cell_type": "code",
   "execution_count": null,
   "id": "incorporated-orchestra",
   "metadata": {},
   "outputs": [],
   "source": [
    "print(sequence_record.id)"
   ]
  },
  {
   "cell_type": "markdown",
   "id": "adaptive-complement",
   "metadata": {},
   "source": [
    "### Extract the raw sequence"
   ]
  },
  {
   "cell_type": "code",
   "execution_count": null,
   "id": "established-submission",
   "metadata": {},
   "outputs": [],
   "source": [
    "print(sequence_record.seq)"
   ]
  },
  {
   "cell_type": "markdown",
   "id": "understanding-bahrain",
   "metadata": {},
   "source": [
    "### Finding out length of a read"
   ]
  },
  {
   "cell_type": "code",
   "execution_count": null,
   "id": "mental-independence",
   "metadata": {},
   "outputs": [],
   "source": [
    "## We can use Python len() function to check the length of the sequence\n",
    "print(len(sequence_record.seq))"
   ]
  },
  {
   "cell_type": "markdown",
   "id": "serial-swift",
   "metadata": {},
   "source": [
    "From above, we see that `read1` is `101` base long.  "
   ]
  },
  {
   "cell_type": "markdown",
   "id": "exceptional-attendance",
   "metadata": {},
   "source": [
    "### Extract the `phred` quality scores per base call"
   ]
  },
  {
   "cell_type": "code",
   "execution_count": null,
   "id": "equipped-climb",
   "metadata": {},
   "outputs": [],
   "source": [
    "print(sequence_record.letter_annotations['phred_quality'])"
   ]
  },
  {
   "cell_type": "markdown",
   "id": "selected-emperor",
   "metadata": {},
   "source": [
    "### Indexing"
   ]
  },
  {
   "cell_type": "markdown",
   "id": "separated-bidder",
   "metadata": {},
   "source": [
    "You can see that the result of above operation is a _list_ of numbers. What if we are interested to check the value at a specific position? For example, if we are interested in the base call quality of the `5th` base, we can use the following cell (what we are doing here is called _indexing_). The reason that we use `4` instead of `5` is that in Python the counting starts from `0`. "
   ]
  },
  {
   "cell_type": "code",
   "execution_count": null,
   "id": "editorial-absolute",
   "metadata": {},
   "outputs": [],
   "source": [
    "print(sequence_record.letter_annotations['phred_quality'][4])"
   ]
  },
  {
   "cell_type": "markdown",
   "id": "moved-tomorrow",
   "metadata": {},
   "source": [
    "### Calculate the probability if a base call is wrong"
   ]
  },
  {
   "cell_type": "markdown",
   "id": "alpha-syndicate",
   "metadata": {},
   "source": [
    "So, if the base call quality for the `5th` base is `31`, this means that the probability that the call is wrong can be calculated as:\n",
    "$$-10log_{10}(p) = 31$$\n",
    "$$log_{10}(p) = -3.1$$\n",
    "$$p = 10^{-3.1}$$"
   ]
  },
  {
   "cell_type": "code",
   "execution_count": null,
   "id": "written-registrar",
   "metadata": {},
   "outputs": [],
   "source": [
    "p = 10**-3.1\n",
    "print(p)"
   ]
  },
  {
   "cell_type": "markdown",
   "id": "increased-intensity",
   "metadata": {},
   "source": [
    "The value above shows that there is a rather low chance that the base call is wrong."
   ]
  },
  {
   "cell_type": "markdown",
   "id": "solar-wages",
   "metadata": {},
   "source": [
    "To see what is the `5th` base, we can use a similar approach and index the sequence as follow:"
   ]
  },
  {
   "cell_type": "code",
   "execution_count": null,
   "id": "military-richardson",
   "metadata": {},
   "outputs": [],
   "source": [
    "print(sequence_record.seq[4])"
   ]
  },
  {
   "cell_type": "markdown",
   "id": "public-hawaiian",
   "metadata": {},
   "source": [
    "### Slicing"
   ]
  },
  {
   "cell_type": "markdown",
   "id": "regulated-mileage",
   "metadata": {},
   "source": [
    "To see the `5th` through `10th` bases on this record, we can use the following cell. **Note** that to get the `10th` base, we need to use `11` (what we are doing here is called _slicing_)."
   ]
  },
  {
   "cell_type": "code",
   "execution_count": null,
   "id": "thorough-thompson",
   "metadata": {},
   "outputs": [],
   "source": [
    "print(sequence_record.seq[4:11])"
   ]
  },
  {
   "cell_type": "markdown",
   "id": "blank-factor",
   "metadata": {},
   "source": [
    "### Plotting"
   ]
  },
  {
   "cell_type": "markdown",
   "id": "posted-physiology",
   "metadata": {},
   "source": [
    "We can visualize the base call quality scores and check how they look for the first record. The X-axis shows the base (e.g. `1st` base as position `0`) and the Y-axis shows the phred quality score. "
   ]
  },
  {
   "cell_type": "code",
   "execution_count": null,
   "id": "numerous-committee",
   "metadata": {},
   "outputs": [],
   "source": [
    "plt.plot(sequence_record.letter_annotations[\"phred_quality\"])\n",
    "plt.xlabel('Base position', fontsize=16) # adds x-axis lable\n",
    "plt.ylabel('Phred quality score', fontsize=16); # add y-axis label"
   ]
  },
  {
   "cell_type": "markdown",
   "id": "lightweight-liquid",
   "metadata": {},
   "source": [
    "From the plot, we can see that the beginning of the sequence and the end of the sequence have a bit lower quality than the middle part (but phred score of `26` is still good i.e. the chance of the base call being wrong is only `0.002512`). In the 31-minute we watched for this assignment, Prof. Eric Chow explained one reason why the quality drops as the sequence gets longer. Do you remember what it was?"
   ]
  },
  {
   "cell_type": "markdown",
   "id": "pending-poison",
   "metadata": {},
   "source": [
    "## Exercises"
   ]
  },
  {
   "cell_type": "markdown",
   "id": "metropolitan-silly",
   "metadata": {},
   "source": [
    "Once you are done with the following exercises and got the answers, use them to answer the Moodle quiz.\n",
    "\n",
    "Using what you have learned above, load the contents of `week_03_sample_r2.fastq` and assign it to a variable named `SeqRecords_r2`. Next, extract **the first record** (i.e. read) from it."
   ]
  },
  {
   "cell_type": "markdown",
   "id": "greenhouse-breast",
   "metadata": {},
   "source": [
    "### Exercise 1"
   ]
  },
  {
   "cell_type": "markdown",
   "id": "major-imperial",
   "metadata": {},
   "source": [
    "What is the `82nd` base?"
   ]
  },
  {
   "cell_type": "code",
   "execution_count": null,
   "id": "urban-minneapolis",
   "metadata": {},
   "outputs": [],
   "source": []
  },
  {
   "cell_type": "markdown",
   "id": "centered-investment",
   "metadata": {},
   "source": [
    "### Exercise 2"
   ]
  },
  {
   "cell_type": "markdown",
   "id": "actual-animation",
   "metadata": {},
   "source": [
    "What is the `82nd` through `90th` base?   "
   ]
  },
  {
   "cell_type": "code",
   "execution_count": null,
   "id": "appointed-teens",
   "metadata": {},
   "outputs": [],
   "source": []
  },
  {
   "cell_type": "markdown",
   "id": "lyric-prophet",
   "metadata": {},
   "source": [
    "### Exercise 3"
   ]
  },
  {
   "cell_type": "markdown",
   "id": "understanding-orientation",
   "metadata": {},
   "source": [
    "What is the phred score of `88th` base?"
   ]
  },
  {
   "cell_type": "code",
   "execution_count": null,
   "id": "split-silicon",
   "metadata": {},
   "outputs": [],
   "source": []
  },
  {
   "cell_type": "markdown",
   "id": "compound-module",
   "metadata": {},
   "source": [
    "### Exercise 4"
   ]
  },
  {
   "cell_type": "markdown",
   "id": "minus-warner",
   "metadata": {},
   "source": [
    "What is a the probability that the `88th` base is wrong?"
   ]
  },
  {
   "cell_type": "code",
   "execution_count": null,
   "id": "herbal-wesley",
   "metadata": {},
   "outputs": [],
   "source": []
  }
 ],
 "metadata": {
  "kernelspec": {
   "display_name": "Python 3",
   "language": "python",
   "name": "python3"
  },
  "language_info": {
   "codemirror_mode": {
    "name": "ipython",
    "version": 3
   },
   "file_extension": ".py",
   "mimetype": "text/x-python",
   "name": "python",
   "nbconvert_exporter": "python",
   "pygments_lexer": "ipython3",
   "version": "3.8.6"
  }
 },
 "nbformat": 4,
 "nbformat_minor": 5
}
