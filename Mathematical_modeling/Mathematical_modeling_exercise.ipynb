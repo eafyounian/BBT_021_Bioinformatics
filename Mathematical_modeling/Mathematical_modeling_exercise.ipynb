{
 "cells": [
  {
   "cell_type": "markdown",
   "id": "cd4ffbd3-8170-4a80-9c50-8952ac8543f8",
   "metadata": {},
   "source": [
    "<h1>Mathematical modeling</h1>"
   ]
  },
  {
   "cell_type": "code",
   "execution_count": null,
   "id": "c4de4093-18b7-4eb8-98d4-656e7fcfd4f7",
   "metadata": {},
   "outputs": [],
   "source": [
    "## Loading the required modules\n",
    "import matplotlib.pyplot as plt\n",
    "import numpy as np\n",
    "from scipy.integrate import odeint"
   ]
  },
  {
   "cell_type": "markdown",
   "id": "1eb98c00-705b-4205-a060-9acfec719a2e",
   "metadata": {},
   "source": [
    "<h2><span style=\"box-sizing: border-box;\">Q1 model</span></h2>"
   ]
  },
  {
   "cell_type": "code",
   "execution_count": null,
   "id": "4f06aeae-ef08-41d1-8a1e-1a4b1c18ed1b",
   "metadata": {},
   "outputs": [],
   "source": [
    "# Model parameters:\n",
    "N = 0\n",
    "x = 0\n",
    "P0 = 0\n",
    "\n",
    "# Calculate the size of the cell population:\n",
    "days = list(range(N+2))\n",
    "P = [ ((x+1)**n) * P0 for n in days]\n",
    "\n",
    "# Plot results:\n",
    "plt.step(days, P, marker=\"o\", where=\"post\")\n",
    "plt.title(\"Question 1\")\n",
    "plt.xlabel(\"Number of days\")\n",
    "plt.ylabel(\"Number of cells\")\n",
    "plt.grid()\n",
    "plt.isinteractive()\n",
    "plt.show()"
   ]
  },
  {
   "cell_type": "markdown",
   "id": "b41a7e94-dd11-43df-a083-0c0207c1ae67",
   "metadata": {},
   "source": [
    "<h2>Q3 model</h2>"
   ]
  },
  {
   "cell_type": "code",
   "execution_count": null,
   "id": "cdcea6d6-8403-4bbd-9c8f-fa4c1b6f6b51",
   "metadata": {},
   "outputs": [],
   "source": [
    "# Model parameters:\n",
    "r0 = 0\n",
    "K = 0\n",
    "N0 = 0\n",
    "\n",
    "# Define f1, where dN/dt = f1(N,t):\n",
    "def f1(N, t):\n",
    "    return r0*N*(1-N/K)\n",
    "\n",
    "# Solve the ODE:\n",
    "t = np.linspace(0, 10, 101)\n",
    "sol = odeint(f1, [N0], t)\n",
    "\n",
    "# Plot results:\n",
    "plt.plot(t, sol, marker=\"o\")\n",
    "plt.axhline(K, ls=\"dashed\", c=\"r\")\n",
    "plt.title(\"Question 3\")\n",
    "plt.xlabel(\"t (days)\")\n",
    "plt.ylabel(\"N (number of cells)\")\n",
    "plt.grid()\n",
    "plt.isinteractive()\n",
    "plt.show()\n"
   ]
  },
  {
   "cell_type": "markdown",
   "id": "432476fd-6fed-4867-bdb8-b7e30aa7f5b4",
   "metadata": {},
   "source": [
    "<h2>Q5 model</h2>"
   ]
  },
  {
   "cell_type": "code",
   "execution_count": null,
   "id": "3eb5a6bc-924e-4873-9184-9b9270b3956d",
   "metadata": {},
   "outputs": [],
   "source": [
    "# Initial concentrations:\n",
    "A0 = 0\n",
    "B0 = 0\n",
    "AB0 = 0\n",
    "\n",
    "# Kinetic constants:\n",
    "a = 0.25\n",
    "d = 0.05\n",
    "\n",
    "# Define the functions f1, f2, f3 symbolically:\n",
    "def f1(A, B, AB, t):\n",
    "    return -a*A*B + d*AB # Define your function here\n",
    "\n",
    "def f2(A, B, AB, t):\n",
    "    return -a*A*B + d*AB # Define your function here\n",
    "\n",
    "def f3(A, B, AB, t):\n",
    "    return a*A*B - d*AB # Define your function here\n",
    "\n",
    "# Define the system of ODEs:\n",
    "def f(y, t):\n",
    "    A, B, AB = y\n",
    "    dydt = [f1(A, B, AB, t),\n",
    "            f2(A, B, AB, t),\n",
    "            f3(A, B, AB, t)]\n",
    "    return dydt\n",
    "\n",
    "# Solve the system of ODEs:\n",
    "t = np.linspace(0, 50, 101)\n",
    "sol = odeint(f, [A0, B0, AB0], t)\n",
    "\n",
    "# Plot the results:\n",
    "sol1 = [s[0] for s in sol]\n",
    "sol2 = [s[1] for s in sol]\n",
    "sol3 = [s[2] for s in sol]\n",
    "\n",
    "plt.plot(t, sol1, marker=\"v\", label=\"[A]\")\n",
    "plt.plot(t, sol2, marker=\"^\", label=\"[B]\")\n",
    "plt.plot(t, sol3, marker=\"*\", label=\"[AB]\")\n",
    "\n",
    "plt.legend()\n",
    "plt.title(\"Question 5\")\n",
    "plt.xlabel(\"t (hours)\")\n",
    "plt.ylabel(\"Concentration (uM)\")\n",
    "plt.grid()\n",
    "plt.isinteractive()\n",
    "plt.show()\n"
   ]
  },
  {
   "cell_type": "markdown",
   "id": "63a67155-baaa-48e4-b03c-00e09abc5ebc",
   "metadata": {},
   "source": [
    "<h2>Q6 model</h2>"
   ]
  },
  {
   "cell_type": "code",
   "execution_count": null,
   "id": "0661ce38-2457-4dd2-bb7a-9d0d3dfdf340",
   "metadata": {},
   "outputs": [],
   "source": [
    "# Initial concentrations:\n",
    "A0 = 0\n",
    "B0 = 0\n",
    "AB0 = 0\n",
    "\n",
    "# Kinetic constants:\n",
    "a = 0.25\n",
    "d = 0.05\n",
    "\n",
    "# Define the functions f1, f2, f3 symbolically:\n",
    "def f1(A, B, AB, t):\n",
    "    return -a*A*B + d*AB # Define your function here\n",
    "\n",
    "def f2(A, B, AB, t):\n",
    "    return -a*A*B + d*AB # Define your function here\n",
    "\n",
    "def f3(A, B, AB, t):\n",
    "    return a*A*B - d*AB # Define your function here\n",
    "\n",
    "# Define the system of ODEs:\n",
    "def f(y, t):\n",
    "    A, B, AB = y\n",
    "    dydt = [f1(A, B, AB, t),\n",
    "            f2(A, B, AB, t),\n",
    "            f3(A, B, AB, t)]\n",
    "    return dydt\n",
    "\n",
    "# Solve the system of ODEs:\n",
    "t = np.linspace(0, 50, 101)\n",
    "sol = odeint(f, [A0, B0, AB0], t)\n",
    "\n",
    "# Plot the results:\n",
    "sol1 = [s[0] for s in sol]\n",
    "sol2 = [s[1] for s in sol]\n",
    "sol3 = [s[2] for s in sol]\n",
    "\n",
    "plt.plot(t, sol1, marker=\"v\", label=\"[A]\")\n",
    "plt.plot(t, sol2, marker=\"^\", label=\"[B]\")\n",
    "plt.plot(t, sol3, marker=\"*\", label=\"[AB]\")\n",
    "\n",
    "plt.legend()\n",
    "plt.title(\"Question 5\")\n",
    "plt.xlabel(\"t (hours)\")\n",
    "plt.ylabel(\"Concentration (uM)\")\n",
    "plt.grid()\n",
    "plt.isinteractive()\n",
    "plt.show()\n"
   ]
  },
  {
   "cell_type": "markdown",
   "id": "6686f2dc-2cb5-4643-a680-00d412ab1243",
   "metadata": {},
   "source": [
    "<h2>Q8 model</h2>"
   ]
  },
  {
   "cell_type": "code",
   "execution_count": null,
   "id": "e148e667-90f4-4c3e-ad91-3eb5beaf84aa",
   "metadata": {},
   "outputs": [],
   "source": [
    "# Model parameters:\n",
    "Emax = 1\n",
    "EC50 = 25.0 #Note: Write this model parameter as a float. E.g., write 1.0 instead of 1\n",
    "gamma = 2\n",
    "\n",
    "# Define drug concentrations for which to calculate drug effects:\n",
    "drugc = list(range(251))\n",
    "\n",
    "# Calculate the drug effects using the Sigmoid Emax model\n",
    "e = [Emax * d**gamma / (EC50**gamma + d**gamma) for d in drugc]\n",
    "\n",
    "# Data:\n",
    "data = [\n",
    "[10, 0.296860397072873, 0.0783614725263983],\n",
    "[20, 0.418886343953485, 0.337017964572144 ],\n",
    "[30, 0.600883561673520, 0.399811408403769 ],\n",
    "[40, 0.824701402095668, 0.598788444255287 ],\n",
    "[50, 0.822447668170853, 0.622850484981728 ],\n",
    "[60, 0.972194757422196, 0.777593254946729 ],\n",
    "[70, 0.986608318667804, 0.803596803944005 ],\n",
    "[80, 0.924165083167764, 0.860988514118864 ],\n",
    "[90, 0.951530157198721, 0.890084812575204 ],\n",
    "[100, 0.988044217007141, 0.856600298057287],\n",
    "[110, 0.959954874550675, 0.769480766502471],\n",
    "[120, 1.14668772334944, 0.859557466911497 ],\n",
    "[130, 1.06165221886499, 0.896257809220712 ],\n",
    "[140, 1.14867616585427, 0.894816040346698 ],\n",
    "[150, 0.994859494369018, 0.816568529646033],\n",
    "[160, 1.05382208222279, 0.927536057647775 ],\n",
    "[170, 1.05936805236164, 0.959294718210343 ],\n",
    "[180, 1.00726161498977, 0.792456838313402 ],\n",
    "[190, 1.17403106806357, 0.867762441001915 ],\n",
    "[200, 0.996418693852694, 0.937506802588781],\n",
    "[210, 1.05652527267894, 0.821654750394932 ],\n",
    "[220, 0.990216899607864, 0.978531451745992],\n",
    "[230, 1.02202021973945, 0.858399118855617 ],\n",
    "[240, 1.13552121664616, 0.859627546887164 ],\n",
    "[250, 1.08020486072540, 0.880618340981942 ],\n",
    "]\n",
    "\n",
    "# Reformulate data for plotting:\n",
    "concentrations = [ d[0] for d in data]\n",
    "mid_points = [ (d[1] + d[2])/2 for d in data ]\n",
    "error_bars = [ (d[1] - d[2])/2 for d in data ]\n",
    "\n",
    "# Plot:\n",
    "plt.plot(drugc, e, marker=\"o\")\n",
    "plt.errorbar(concentrations, mid_points, error_bars, capsize=10, ls='')\n",
    "plt.xlabel('Concentration (C)')\n",
    "plt.ylabel('Effect (E)')\n",
    "plt.title(\"Question 8\")\n",
    "plt.isinteractive()\n",
    "plt.show()"
   ]
  },
  {
   "cell_type": "code",
   "execution_count": null,
   "id": "326ecaab-6df0-4ea3-b8a0-c813c6c4ad97",
   "metadata": {},
   "outputs": [],
   "source": []
  },
  {
   "cell_type": "code",
   "execution_count": null,
   "id": "b960f7a4-eca3-4174-989d-1ae82ee7f0c2",
   "metadata": {},
   "outputs": [],
   "source": []
  }
 ],
 "metadata": {
  "kernelspec": {
   "display_name": "Python 3 (ipykernel)",
   "language": "python",
   "name": "python3"
  },
  "language_info": {
   "codemirror_mode": {
    "name": "ipython",
    "version": 3
   },
   "file_extension": ".py",
   "mimetype": "text/x-python",
   "name": "python",
   "nbconvert_exporter": "python",
   "pygments_lexer": "ipython3",
   "version": "3.9.7"
  },
  "widgets": {
   "application/vnd.jupyter.widget-state+json": {
    "state": {
     "0018c704fbc748f4a31566a5ffc8b01e": {
      "model_module": "@jupyter-widgets/controls",
      "model_module_version": "1.5.0",
      "model_name": "LabelModel",
      "state": {
       "description": "genome",
       "layout": "IPY_MODEL_cc899a4e0d5e4701b9571e6dc8642676",
       "style": "IPY_MODEL_18c68bfcc5e148f29fa55a3fa1b00f10",
       "value": "genome*"
      }
     },
     "0387292fe0db41029d5b5b1d5ae08cd1": {
      "model_module": "@jupyter-widgets/controls",
      "model_module_version": "1.5.0",
      "model_name": "ComboboxModel",
      "state": {
       "_dom_classes": [
        "nbtools-menu-attached"
       ],
       "choices": {
        "": "",
        "bam": "bam",
        "bb": "bb",
        "bed": "bed",
        "bedgraph": "bedgraph",
        "bedpe": "bedpe",
        "bedpe-loop": "bedpe-loop",
        "bigbed": "bigbed",
        "bigwig": "bigwig",
        "bp": "bp",
        "bw": "bw",
        "cram": "cram",
        "gwas": "gwas",
        "mut": "mut",
        "seg": "seg",
        "tdf": "tdf",
        "vcf": "vcf",
        "wig": "wig"
       },
       "ensure_option": false,
       "kinds": [],
       "layout": "IPY_MODEL_10552f2daf2c4c27a15e13f40c3f7fdc",
       "style": "IPY_MODEL_e2aaa49dcc8d45a8a40b7a0177c37dfd"
      }
     },
     "03b12dd66b524eb2875f2946a5e8ee2d": {
      "model_module": "@jupyter-widgets/base",
      "model_module_version": "1.2.0",
      "model_name": "LayoutModel",
      "state": {}
     },
     "0549cfdc9c564f8d97e24942d4f11421": {
      "model_module": "@jupyter-widgets/base",
      "model_module_version": "1.2.0",
      "model_name": "LayoutModel",
      "state": {
       "grid_area": "input",
       "width": "auto"
      }
     },
     "058a2f9e40544d40850f60b76b7b0b51": {
      "model_module": "@jupyter-widgets/controls",
      "model_module_version": "1.5.0",
      "model_name": "VBoxModel",
      "state": {
       "children": [
        "IPY_MODEL_6eb23c2322ac4b2794e0affea73fee9e",
        "IPY_MODEL_06d418f54456497186069d4a7cfd592a"
       ],
       "layout": "IPY_MODEL_2dc3811e202748869804b1c0361ecec8"
      }
     },
     "06d418f54456497186069d4a7cfd592a": {
      "model_module": "@jupyter-widgets/controls",
      "model_module_version": "1.5.0",
      "model_name": "ComboboxModel",
      "state": {
       "_dom_classes": [
        "nbtools-menu-attached"
       ],
       "choices": {},
       "ensure_option": false,
       "kinds": [],
       "layout": "IPY_MODEL_db81bbca9c104f498b6361fa7e305e8c",
       "style": "IPY_MODEL_1d54c69f67264a419cc588ef5e3da8a7"
      }
     },
     "083fc269a01d41a88b2b486eef7b7198": {
      "model_module": "@jupyter-widgets/controls",
      "model_module_version": "1.5.0",
      "model_name": "DescriptionStyleModel",
      "state": {
       "description_width": ""
      }
     },
     "097473ccbbdb45bf82725af9fc1aaede": {
      "model_module": "@jupyter-widgets/controls",
      "model_module_version": "1.5.0",
      "model_name": "GridBoxModel",
      "state": {
       "_dom_classes": [
        "nbtools-input",
        "nbtools-textinput"
       ],
       "children": [
        "IPY_MODEL_612847bb64cb420e93cc87e07c863b35",
        "IPY_MODEL_240342d1ad38413791e908adeff1cc20",
        "IPY_MODEL_6a03c5cba49c49428ed4b919305067d2"
       ],
       "layout": "IPY_MODEL_522259faacef4ad8ace2a4de7e1544a2"
      }
     },
     "09f9dfe8bb4e4cc3b0ad56988a1e9fec": {
      "model_module": "@jupyter-widgets/base",
      "model_module_version": "1.2.0",
      "model_name": "LayoutModel",
      "state": {
       "grid_template_areas": "\n                    \"label input\"\n                    \". description\"\n                ",
       "grid_template_columns": "25% 75%",
       "grid_template_rows": "auto auto",
       "width": "100%"
      }
     },
     "0ab86f51763b4d2180195e0b55760a03": {
      "model_module": "@jupyter-widgets/controls",
      "model_module_version": "1.5.0",
      "model_name": "TextModel",
      "state": {
       "_dom_classes": [
        "nbtools-menu-attached"
       ],
       "layout": "IPY_MODEL_a7947d2f444648db9cb6bf6fbd55aa83",
       "style": "IPY_MODEL_c5927fef43ea4f0a9c8b84b47d5009b4"
      }
     },
     "0bd2bbfe53664c438d016ad5ba1fc170": {
      "model_module": "@jupyter-widgets/controls",
      "model_module_version": "1.5.0",
      "model_name": "LabelModel",
      "state": {
       "description": "output variable",
       "layout": "IPY_MODEL_15f01c93df4942d88b4a8d1604bef779",
       "style": "IPY_MODEL_a9454b1bc2af422b91f0758d51ae589e",
       "value": "output variable"
      }
     },
     "10552f2daf2c4c27a15e13f40c3f7fdc": {
      "model_module": "@jupyter-widgets/base",
      "model_module_version": "1.2.0",
      "model_name": "LayoutModel",
      "state": {
       "grid_area": "input",
       "width": "auto"
      }
     },
     "11f23a7def454d0d8c0ffe1bb25cda8f": {
      "model_module": "@jupyter-widgets/controls",
      "model_module_version": "1.5.0",
      "model_name": "DescriptionStyleModel",
      "state": {
       "description_width": ""
      }
     },
     "14e0b4c7c18c41c4bac0bfb9b7265b82": {
      "model_module": "@jupyter-widgets/controls",
      "model_module_version": "1.5.0",
      "model_name": "ButtonStyleModel",
      "state": {}
     },
     "15c5152557ca4ecba07d93ff6a5ab4f1": {
      "model_module": "@jupyter-widgets/base",
      "model_module_version": "1.2.0",
      "model_name": "LayoutModel",
      "state": {
       "display": "none",
       "grid_template_areas": "\n                    \"label input\"\n                    \". description\"\n                ",
       "grid_template_columns": "25% 75%",
       "grid_template_rows": "auto auto",
       "width": "100%"
      }
     },
     "15f01c93df4942d88b4a8d1604bef779": {
      "model_module": "@jupyter-widgets/base",
      "model_module_version": "1.2.0",
      "model_name": "LayoutModel",
      "state": {
       "grid_area": "label",
       "width": "auto"
      }
     },
     "18c68bfcc5e148f29fa55a3fa1b00f10": {
      "model_module": "@jupyter-widgets/controls",
      "model_module_version": "1.5.0",
      "model_name": "DescriptionStyleModel",
      "state": {
       "description_width": ""
      }
     },
     "190ef90591704e6e82145a1c88c48b62": {
      "model_module": "@jupyter-widgets/controls",
      "model_module_version": "1.5.0",
      "model_name": "LabelModel",
      "state": {
       "description": "tracks",
       "layout": "IPY_MODEL_c022e9f43ab0412a9c557421f9331005",
       "style": "IPY_MODEL_4ca8af43659046db8f695fd6effd2f2a",
       "value": "tracks"
      }
     },
     "1adc986c89ec4762a98191105efc8088": {
      "model_module": "@g2nb/nbtools",
      "model_module_version": "^22.6.0-beta.1",
      "model_name": "UIBuilderModel",
      "state": {
       "_model_module_version": "^22.6.0-beta.1",
       "_parameters": [
        {
         "choices": {
          "Bonobo (MPI-EVA panpan1.1/panPan2)": "panPan2",
          "C. elegans (ce11)": "ce11",
          "Chimp (SAC 2.1.4/panTro4)": "panTro4",
          "Cow (UMD_3.1.1/bosTau8)": "bosTau8",
          "D. melanogaster (dm6)": "dm6",
          "Dog (Broad CanFam3.1/canFam3)": "canFam3",
          "Gorilla (gorGor4.1/gorGor4)": "gorGor4",
          "Human (CRCh37/hg19)": "hg19",
          "Human (GRCh38/hg38)": "hg38",
          "Human (hg18)": "hg18",
          "Mouse (GRCm38/mm10)": "mm10",
          "Pig (SGSC Sscrofa11.1/susScr11)": "susScr11",
          "Rat (RGCS 6.0/rn6)": "rn6",
          "S. cerevisiae (sacCer3)": "sacCer3",
          "Zebrafish (GRCZ10/danRer10)": "danRer10",
          "Zebrafish (GRCZ11/danRer11)": "danRer11"
         },
         "combo": true,
         "default": "hg38",
         "description": "Choose the genome for your data.",
         "events": null,
         "hide": false,
         "id": null,
         "kinds": null,
         "label": "genome",
         "name": "genome",
         "optional": false,
         "sendto": false,
         "type": "choice",
         "value": ""
        },
        {
         "choices": {},
         "default": "",
         "description": "Enter the URL to the track dataset(s)",
         "events": null,
         "hide": false,
         "id": null,
         "kinds": null,
         "label": "tracks",
         "maximum": 100,
         "name": "tracks",
         "optional": true,
         "type": "file",
         "value": "None"
        },
        {
         "choices": {},
         "default": "",
         "description": "Enter the URL to the index files that correspond to each track",
         "events": null,
         "hide": false,
         "id": null,
         "kinds": null,
         "label": "indices",
         "maximum": 100,
         "name": "indices",
         "optional": true,
         "type": "file",
         "value": "None"
        },
        {
         "choices": {
          "": "",
          "bam": "bam",
          "bb": "bb",
          "bed": "bed",
          "bedgraph": "bedgraph",
          "bedpe": "bedpe",
          "bedpe-loop": "bedpe-loop",
          "bigbed": "bigbed",
          "bigwig": "bigwig",
          "bp": "bp",
          "bw": "bw",
          "cram": "cram",
          "gwas": "gwas",
          "mut": "mut",
          "seg": "seg",
          "tdf": "tdf",
          "vcf": "vcf",
          "wig": "wig"
         },
         "combo": true,
         "default": "",
         "description": "Enter the format of the track datasets",
         "events": null,
         "hide": false,
         "id": null,
         "kinds": null,
         "label": "track format",
         "name": "track_format",
         "optional": true,
         "type": "choice",
         "value": "None"
        },
        {
         "choices": {
          "": "",
          "alignment": "alignment",
          "annotation": "annotation",
          "arc": "arc",
          "bedtype": "bedtype",
          "gwas": "gwas",
          "interaction": "interaction",
          "mut": "mut",
          "seg": "seg",
          "variant": "variant",
          "wig": "wig"
         },
         "combo": true,
         "default": "",
         "description": "Enter the type of the track datasets",
         "events": null,
         "hide": false,
         "id": null,
         "kinds": null,
         "label": "track type",
         "name": "track_type",
         "optional": true,
         "type": "choice",
         "value": "None"
        },
        {
         "choices": {},
         "default": "",
         "description": "Provide a locus or gene of interest for your data",
         "events": null,
         "hide": false,
         "id": null,
         "kinds": null,
         "label": "locus",
         "name": "locus",
         "optional": true,
         "type": "text",
         "value": "None"
        },
        {
         "choices": {},
         "default": "",
         "description": "",
         "events": null,
         "hide": true,
         "id": null,
         "kinds": null,
         "label": "output variable",
         "name": "output_var",
         "optional": true,
         "type": "text",
         "value": ""
        }
       ],
       "_view_module_version": "^22.6.0-beta.1",
       "color": "#4a8797",
       "description": "Use igv.js to embed an interactive genome visualization",
       "form": "IPY_MODEL_578bfcd1afd84af998cf6737cbb7a6f2",
       "layout": "IPY_MODEL_4fa53256d216486897dc1876dadff4c7",
       "logo": "http://igv.org/web/img/favicon.ico",
       "name": "Integrative Genomics Viewer (IGV)",
       "origin": "+",
       "output": "IPY_MODEL_473fe7b164144b2c98988c883eb93621",
       "output_var": "",
       "parameter_groups": [
        {
         "name": "Basic Parameters",
         "parameters": [
          "genome",
          "tracks",
          "indices",
          "locus"
         ]
        },
        {
         "advanced": true,
         "hidden": false,
         "name": "Advanced Parameters",
         "parameters": [
          "track_format",
          "track_type"
         ]
        }
       ],
       "run_label": "Visualize"
      }
     },
     "1d54c69f67264a419cc588ef5e3da8a7": {
      "model_module": "@jupyter-widgets/controls",
      "model_module_version": "1.5.0",
      "model_name": "DescriptionStyleModel",
      "state": {
       "description_width": ""
      }
     },
     "1db1a336deb94f37a0a5f8a59d7da758": {
      "model_module": "@jupyter-widgets/base",
      "model_module_version": "1.2.0",
      "model_name": "LayoutModel",
      "state": {}
     },
     "1e8bb0ecfb144fb1b0fe3d7cac1e685c": {
      "model_module": "@jupyter-widgets/controls",
      "model_module_version": "1.5.0",
      "model_name": "DescriptionStyleModel",
      "state": {
       "description_width": ""
      }
     },
     "2362f1871bd24377a8b043b8c29ca2d0": {
      "model_module": "@jupyter-widgets/controls",
      "model_module_version": "1.5.0",
      "model_name": "HBoxModel",
      "state": {
       "children": [
        "IPY_MODEL_d62a803bbb5b439880190c05a884fae7",
        "IPY_MODEL_058a2f9e40544d40850f60b76b7b0b51"
       ],
       "layout": "IPY_MODEL_8d83dea37740440a89956b16d4f69b17"
      }
     },
     "240342d1ad38413791e908adeff1cc20": {
      "model_module": "@jupyter-widgets/controls",
      "model_module_version": "1.5.0",
      "model_name": "TextModel",
      "state": {
       "_dom_classes": [
        "nbtools-menu-attached"
       ],
       "layout": "IPY_MODEL_47d4a201e78a47a2a8e6dd46a4a982ac",
       "style": "IPY_MODEL_bf36b396a04643c496d307d9dd4dd9ba"
      }
     },
     "2554f396c4b347fcba1f6adf5a87164c": {
      "model_module": "@jupyter-widgets/controls",
      "model_module_version": "1.5.0",
      "model_name": "LabelModel",
      "state": {
       "description": "Enter the URL to the index files that correspond to each track",
       "layout": "IPY_MODEL_9df1f162dfc54bd5b912f9d9ecf1518a",
       "style": "IPY_MODEL_fec6f7ab7d624b13bf5110b659110e29",
       "value": "Enter the URL to the index files that correspond to each track"
      }
     },
     "284046f21c93440f9a0a8442fbd7423d": {
      "model_module": "@jupyter-widgets/controls",
      "model_module_version": "1.5.0",
      "model_name": "GridBoxModel",
      "state": {
       "_dom_classes": [
        "nbtools-input",
        "nbtools-fileinput"
       ],
       "children": [
        "IPY_MODEL_190ef90591704e6e82145a1c88c48b62",
        "IPY_MODEL_2362f1871bd24377a8b043b8c29ca2d0",
        "IPY_MODEL_70b9f258efee448cbd743c008be84f37"
       ],
       "layout": "IPY_MODEL_09f9dfe8bb4e4cc3b0ad56988a1e9fec"
      }
     },
     "29b06afe32d74aaeb1fd287b2c479c1f": {
      "model_module": "@jupyter-widgets/controls",
      "model_module_version": "1.5.0",
      "model_name": "DescriptionStyleModel",
      "state": {
       "description_width": ""
      }
     },
     "2ca669b7245e49adb0b7463b8f6a1f49": {
      "model_module": "@jupyter-widgets/controls",
      "model_module_version": "1.5.0",
      "model_name": "VBoxModel",
      "state": {
       "_dom_classes": [
        "widget-interact"
       ],
       "children": [
        "IPY_MODEL_c1248b6cbc7d46bab490729f3267d162",
        "IPY_MODEL_e8a97acbc64e418abd7d2f8acf8afad6"
       ],
       "layout": "IPY_MODEL_ce385c31726e41309f5df66aa8fbf1d3"
      }
     },
     "2db6101d8cac4c5e8ce5ec6b00470f15": {
      "model_module": "@jupyter-widgets/controls",
      "model_module_version": "1.5.0",
      "model_name": "ButtonModel",
      "state": {
       "_dom_classes": [
        "hidden"
       ],
       "description": "Run",
       "layout": "IPY_MODEL_bd7ad078b2ed432a9932c5dce6bc5e15",
       "style": "IPY_MODEL_d25153e13099421ab943263016808b44"
      }
     },
     "2dc3811e202748869804b1c0361ecec8": {
      "model_module": "@jupyter-widgets/base",
      "model_module_version": "1.2.0",
      "model_name": "LayoutModel",
      "state": {}
     },
     "303b2bc91a204ce48fd4e5087a9bc87e": {
      "model_module": "@jupyter-widgets/controls",
      "model_module_version": "1.5.0",
      "model_name": "HBoxModel",
      "state": {
       "children": [
        "IPY_MODEL_3bf5830e33294cd5aa97596d963ddd51",
        "IPY_MODEL_f1aae0f85b43403eb343bd32054984cb"
       ],
       "layout": "IPY_MODEL_ccf4ee37efa94a15a172e83917792ec4"
      }
     },
     "349cdc1cce2a487a81ba44598b3ae2ba": {
      "model_module": "@jupyter-widgets/controls",
      "model_module_version": "1.5.0",
      "model_name": "DescriptionStyleModel",
      "state": {
       "description_width": ""
      }
     },
     "3a2217a2ce8d4b2fbd5f9145664bbc07": {
      "model_module": "@jupyter-widgets/base",
      "model_module_version": "1.2.0",
      "model_name": "LayoutModel",
      "state": {
       "grid_template_areas": "\n                    \"label input\"\n                    \". description\"\n                ",
       "grid_template_columns": "25% 75%",
       "grid_template_rows": "auto auto",
       "width": "100%"
      }
     },
     "3b87a7cd2af947f4b88434a192e8868a": {
      "model_module": "@jupyter-widgets/base",
      "model_module_version": "1.2.0",
      "model_name": "LayoutModel",
      "state": {}
     },
     "3bf5830e33294cd5aa97596d963ddd51": {
      "model_module": "@g2nb/ipyuploads",
      "model_module_version": "0.1.0",
      "model_name": "UploadModel",
      "state": {
       "description_tooltip": null,
       "layout": "IPY_MODEL_9f1ba1263a1243c0ba469e78e66d16c5",
       "style": "IPY_MODEL_a514d89b11964cbea74abcf26a232c8b"
      }
     },
     "3d6ceb5ca0414dd2a089a63759c08f18": {
      "model_module": "@jupyter-widgets/base",
      "model_module_version": "1.2.0",
      "model_name": "LayoutModel",
      "state": {
       "grid_area": "description",
       "width": "auto"
      }
     },
     "3e716b1644fa4b1399fbd98f7f508468": {
      "model_module": "@jupyter-widgets/controls",
      "model_module_version": "1.5.0",
      "model_name": "DescriptionStyleModel",
      "state": {
       "description_width": ""
      }
     },
     "3ecb87ef419a47c69c2baa925f0820a7": {
      "model_module": "@jupyter-widgets/controls",
      "model_module_version": "1.5.0",
      "model_name": "LabelModel",
      "state": {
       "description": "locus",
       "layout": "IPY_MODEL_f34cb732f5424b088c9409f6c4e939f8",
       "style": "IPY_MODEL_6d479a8ae17d46259204f2852b7f9c03",
       "value": "locus"
      }
     },
     "473fe7b164144b2c98988c883eb93621": {
      "model_module": "@jupyter-widgets/output",
      "model_module_version": "1.0.0",
      "model_name": "OutputModel",
      "state": {
       "layout": "IPY_MODEL_3b87a7cd2af947f4b88434a192e8868a"
      }
     },
     "47c837a96aff4b6d86489d43b02607be": {
      "model_module": "@jupyter-widgets/base",
      "model_module_version": "1.2.0",
      "model_name": "LayoutModel",
      "state": {
       "grid_area": "description",
       "width": "auto"
      }
     },
     "47d4a201e78a47a2a8e6dd46a4a982ac": {
      "model_module": "@jupyter-widgets/base",
      "model_module_version": "1.2.0",
      "model_name": "LayoutModel",
      "state": {
       "grid_area": "input",
       "width": "auto"
      }
     },
     "4b61008f726845e88d77ff5ba00e8635": {
      "model_module": "@jupyter-widgets/output",
      "model_module_version": "1.0.0",
      "model_name": "OutputModel",
      "state": {
       "layout": "IPY_MODEL_78e79c7c643d4036950b92e97a45de39"
      }
     },
     "4c0a0b0f0378468da8bc9fd917e85a62": {
      "model_module": "@jupyter-widgets/base",
      "model_module_version": "1.2.0",
      "model_name": "LayoutModel",
      "state": {
       "grid_area": "label",
       "width": "auto"
      }
     },
     "4ca8af43659046db8f695fd6effd2f2a": {
      "model_module": "@jupyter-widgets/controls",
      "model_module_version": "1.5.0",
      "model_name": "DescriptionStyleModel",
      "state": {
       "description_width": ""
      }
     },
     "4cc1170d9df245869b081eb183ea6568": {
      "model_module": "@jupyter-widgets/base",
      "model_module_version": "1.2.0",
      "model_name": "LayoutModel",
      "state": {}
     },
     "4fa53256d216486897dc1876dadff4c7": {
      "model_module": "@jupyter-widgets/base",
      "model_module_version": "1.2.0",
      "model_name": "LayoutModel",
      "state": {}
     },
     "522259faacef4ad8ace2a4de7e1544a2": {
      "model_module": "@jupyter-widgets/base",
      "model_module_version": "1.2.0",
      "model_name": "LayoutModel",
      "state": {
       "display": "none",
       "grid_template_areas": "\n                    \"label input\"\n                    \". description\"\n                ",
       "grid_template_columns": "25% 75%",
       "grid_template_rows": "auto auto",
       "width": "100%"
      }
     },
     "578bfcd1afd84af998cf6737cbb7a6f2": {
      "model_module": "@jupyter-widgets/controls",
      "model_module_version": "1.5.0",
      "model_name": "VBoxModel",
      "state": {
       "_dom_classes": [
        "widget-interact"
       ],
       "children": [
        "IPY_MODEL_7df4af30ace44e0cbf798c2f24c0231b",
        "IPY_MODEL_284046f21c93440f9a0a8442fbd7423d",
        "IPY_MODEL_7b97ab1a05634c9da0f6aea4a0840131",
        "IPY_MODEL_8f4a1b120e68423ba78041a0905c42a5",
        "IPY_MODEL_9f16d04b26e845748ebb12405f63f243",
        "IPY_MODEL_e58549cd4d194ae6b60d7958b61b993b",
        "IPY_MODEL_2db6101d8cac4c5e8ce5ec6b00470f15",
        "IPY_MODEL_cbbd9a58b78b4e41a64f9e6a8033763e"
       ],
       "layout": "IPY_MODEL_d0983d06c27a4600a8a8b69b8eb8102a"
      }
     },
     "592102cc7c9a4977bda2e8deb8852a01": {
      "model_module": "@jupyter-widgets/controls",
      "model_module_version": "1.5.0",
      "model_name": "DescriptionStyleModel",
      "state": {
       "description_width": ""
      }
     },
     "5972273bffc646eaa6d374362c1543d8": {
      "model_module": "@jupyter-widgets/controls",
      "model_module_version": "1.5.0",
      "model_name": "DescriptionStyleModel",
      "state": {
       "description_width": ""
      }
     },
     "612847bb64cb420e93cc87e07c863b35": {
      "model_module": "@jupyter-widgets/controls",
      "model_module_version": "1.5.0",
      "model_name": "LabelModel",
      "state": {
       "description": "output variable",
       "layout": "IPY_MODEL_a1a06bf2f79244ef9f9b5dd46ff026f8",
       "style": "IPY_MODEL_9eeb9f2095a2448f90ceaf5e7a15a084",
       "value": "output variable"
      }
     },
     "6a03c5cba49c49428ed4b919305067d2": {
      "model_module": "@jupyter-widgets/controls",
      "model_module_version": "1.5.0",
      "model_name": "LabelModel",
      "state": {
       "layout": "IPY_MODEL_8ac4e62603d44a62962cc768b8a72e55",
       "style": "IPY_MODEL_349cdc1cce2a487a81ba44598b3ae2ba"
      }
     },
     "6a854d4d68ad4312be14dae3077a7adc": {
      "model_module": "@jupyter-widgets/controls",
      "model_module_version": "1.5.0",
      "model_name": "ComboboxModel",
      "state": {
       "_dom_classes": [
        "nbtools-menu-attached"
       ],
       "choices": {},
       "ensure_option": false,
       "kinds": [],
       "layout": "IPY_MODEL_03b12dd66b524eb2875f2946a5e8ee2d",
       "style": "IPY_MODEL_98084d0a7d9b4d708e52d6d0c53177c7"
      }
     },
     "6d479a8ae17d46259204f2852b7f9c03": {
      "model_module": "@jupyter-widgets/controls",
      "model_module_version": "1.5.0",
      "model_name": "DescriptionStyleModel",
      "state": {
       "description_width": ""
      }
     },
     "6eb23c2322ac4b2794e0affea73fee9e": {
      "model_module": "@jupyter-widgets/controls",
      "model_module_version": "1.5.0",
      "model_name": "ComboboxModel",
      "state": {
       "_dom_classes": [
        "nbtools-menu-attached"
       ],
       "choices": {},
       "ensure_option": false,
       "kinds": [],
       "layout": "IPY_MODEL_4cc1170d9df245869b081eb183ea6568",
       "style": "IPY_MODEL_e8d906aa634844779fd9fe036cd85fa5"
      }
     },
     "6f216dfbe6a143a1a52e06038f86b0b3": {
      "model_module": "@jupyter-widgets/controls",
      "model_module_version": "1.5.0",
      "model_name": "LabelModel",
      "state": {
       "description": "Enter the format of the track datasets",
       "layout": "IPY_MODEL_9b2f3512bcf0495cb0fab0eaf055fed6",
       "style": "IPY_MODEL_3e716b1644fa4b1399fbd98f7f508468",
       "value": "Enter the format of the track datasets"
      }
     },
     "70b9f258efee448cbd743c008be84f37": {
      "model_module": "@jupyter-widgets/controls",
      "model_module_version": "1.5.0",
      "model_name": "LabelModel",
      "state": {
       "description": "Enter the URL to the track dataset(s)",
       "layout": "IPY_MODEL_47c837a96aff4b6d86489d43b02607be",
       "style": "IPY_MODEL_11f23a7def454d0d8c0ffe1bb25cda8f",
       "value": "Enter the URL to the track dataset(s)"
      }
     },
     "78e79c7c643d4036950b92e97a45de39": {
      "model_module": "@jupyter-widgets/base",
      "model_module_version": "1.2.0",
      "model_name": "LayoutModel",
      "state": {}
     },
     "78e9a2f22f0448e4ad1a0ec918955d5f": {
      "model_module": "@jupyter-widgets/controls",
      "model_module_version": "1.5.0",
      "model_name": "ComboboxModel",
      "state": {
       "_dom_classes": [
        "nbtools-menu-attached"
       ],
       "choices": {},
       "ensure_option": false,
       "kinds": [],
       "layout": "IPY_MODEL_1db1a336deb94f37a0a5f8a59d7da758",
       "style": "IPY_MODEL_b7b79509bb294e239b35efab1b263166"
      }
     },
     "7b97ab1a05634c9da0f6aea4a0840131": {
      "model_module": "@jupyter-widgets/controls",
      "model_module_version": "1.5.0",
      "model_name": "GridBoxModel",
      "state": {
       "_dom_classes": [
        "nbtools-input",
        "nbtools-fileinput"
       ],
       "children": [
        "IPY_MODEL_a34531582dec448a8eeac82314251689",
        "IPY_MODEL_303b2bc91a204ce48fd4e5087a9bc87e",
        "IPY_MODEL_2554f396c4b347fcba1f6adf5a87164c"
       ],
       "layout": "IPY_MODEL_b2b292289a7c44e8888b3b7a246ef301"
      }
     },
     "7df4af30ace44e0cbf798c2f24c0231b": {
      "model_module": "@jupyter-widgets/controls",
      "model_module_version": "1.5.0",
      "model_name": "GridBoxModel",
      "state": {
       "_dom_classes": [
        "nbtools-input",
        "nbtools-comboinput",
        "required"
       ],
       "children": [
        "IPY_MODEL_0018c704fbc748f4a31566a5ffc8b01e",
        "IPY_MODEL_d18c70b9b3b64a44ba03c7b486b6277b",
        "IPY_MODEL_e39828c4cee94624bcbab20aa95386d0"
       ],
       "layout": "IPY_MODEL_3a2217a2ce8d4b2fbd5f9145664bbc07"
      }
     },
     "7ed90a0e0fc6490399526c1926affec2": {
      "model_module": "@jupyter-widgets/controls",
      "model_module_version": "1.5.0",
      "model_name": "LabelModel",
      "state": {
       "description": "track format",
       "layout": "IPY_MODEL_eba97ac96bc9402eb319e164d6a7cb62",
       "style": "IPY_MODEL_592102cc7c9a4977bda2e8deb8852a01",
       "value": "track format"
      }
     },
     "7f217e45aa884fa6a8911068e2cb4951": {
      "model_module": "@jupyter-widgets/controls",
      "model_module_version": "1.5.0",
      "model_name": "TextModel",
      "state": {
       "_dom_classes": [
        "nbtools-menu-attached"
       ],
       "layout": "IPY_MODEL_c1c7b30cce4947508ffac75713d6d799",
       "style": "IPY_MODEL_083fc269a01d41a88b2b486eef7b7198"
      }
     },
     "817fea94fc454e609ee08defd35b5802": {
      "model_module": "@jupyter-widgets/base",
      "model_module_version": "1.2.0",
      "model_name": "LayoutModel",
      "state": {
       "grid_area": "description",
       "width": "auto"
      }
     },
     "8728db69cf394c4386eb3986e5ffda31": {
      "model_module": "@jupyter-widgets/base",
      "model_module_version": "1.2.0",
      "model_name": "LayoutModel",
      "state": {
       "grid_area": "label",
       "width": "auto"
      }
     },
     "8ac4e62603d44a62962cc768b8a72e55": {
      "model_module": "@jupyter-widgets/base",
      "model_module_version": "1.2.0",
      "model_name": "LayoutModel",
      "state": {
       "grid_area": "description",
       "width": "auto"
      }
     },
     "8c8aadc94f424f9287ea3f153db76799": {
      "model_module": "@jupyter-widgets/base",
      "model_module_version": "1.2.0",
      "model_name": "LayoutModel",
      "state": {
       "grid_area": "input",
       "width": "auto"
      }
     },
     "8d83dea37740440a89956b16d4f69b17": {
      "model_module": "@jupyter-widgets/base",
      "model_module_version": "1.2.0",
      "model_name": "LayoutModel",
      "state": {
       "grid_area": "input",
       "width": "auto"
      }
     },
     "8e6cf011f15a4c76afc3ebf7f12f45d8": {
      "model_module": "@jupyter-widgets/base",
      "model_module_version": "1.2.0",
      "model_name": "LayoutModel",
      "state": {
       "grid_template_areas": "\n                    \"label input\"\n                    \". description\"\n                ",
       "grid_template_columns": "25% 75%",
       "grid_template_rows": "auto auto",
       "width": "100%"
      }
     },
     "8f4a1b120e68423ba78041a0905c42a5": {
      "model_module": "@jupyter-widgets/controls",
      "model_module_version": "1.5.0",
      "model_name": "GridBoxModel",
      "state": {
       "_dom_classes": [
        "nbtools-input",
        "nbtools-comboinput"
       ],
       "children": [
        "IPY_MODEL_7ed90a0e0fc6490399526c1926affec2",
        "IPY_MODEL_0387292fe0db41029d5b5b1d5ae08cd1",
        "IPY_MODEL_6f216dfbe6a143a1a52e06038f86b0b3"
       ],
       "layout": "IPY_MODEL_c7e516c371774462bdbc260753af8f08"
      }
     },
     "9282ccdc8f8342b49cfdd7438c4c0df5": {
      "model_module": "@jupyter-widgets/controls",
      "model_module_version": "1.5.0",
      "model_name": "DescriptionStyleModel",
      "state": {
       "description_width": ""
      }
     },
     "93d68ef1765348e6b38a93fa6d9e1d73": {
      "model_module": "@jupyter-widgets/base",
      "model_module_version": "1.2.0",
      "model_name": "LayoutModel",
      "state": {}
     },
     "98084d0a7d9b4d708e52d6d0c53177c7": {
      "model_module": "@jupyter-widgets/controls",
      "model_module_version": "1.5.0",
      "model_name": "DescriptionStyleModel",
      "state": {
       "description_width": ""
      }
     },
     "99265cb6d0b94f1a814b7c95a592901d": {
      "model_module": "@jupyter-widgets/controls",
      "model_module_version": "1.5.0",
      "model_name": "DescriptionStyleModel",
      "state": {
       "description_width": ""
      }
     },
     "9b2f3512bcf0495cb0fab0eaf055fed6": {
      "model_module": "@jupyter-widgets/base",
      "model_module_version": "1.2.0",
      "model_name": "LayoutModel",
      "state": {
       "grid_area": "description",
       "width": "auto"
      }
     },
     "9b8f2de0f6a341208a05b2fb5828c01b": {
      "model_module": "@jupyter-widgets/controls",
      "model_module_version": "1.5.0",
      "model_name": "LabelModel",
      "state": {
       "description": "Enter the type of the track datasets",
       "layout": "IPY_MODEL_f93e29ba24c54645b4048d66486d2982",
       "style": "IPY_MODEL_5972273bffc646eaa6d374362c1543d8",
       "value": "Enter the type of the track datasets"
      }
     },
     "9d72f2beaa894c3cb7d83c365ff9985f": {
      "model_module": "@jupyter-widgets/controls",
      "model_module_version": "1.5.0",
      "model_name": "DescriptionStyleModel",
      "state": {
       "description_width": ""
      }
     },
     "9df1f162dfc54bd5b912f9d9ecf1518a": {
      "model_module": "@jupyter-widgets/base",
      "model_module_version": "1.2.0",
      "model_name": "LayoutModel",
      "state": {
       "grid_area": "description",
       "width": "auto"
      }
     },
     "9eeb9f2095a2448f90ceaf5e7a15a084": {
      "model_module": "@jupyter-widgets/controls",
      "model_module_version": "1.5.0",
      "model_name": "DescriptionStyleModel",
      "state": {
       "description_width": ""
      }
     },
     "9f16d04b26e845748ebb12405f63f243": {
      "model_module": "@jupyter-widgets/controls",
      "model_module_version": "1.5.0",
      "model_name": "GridBoxModel",
      "state": {
       "_dom_classes": [
        "nbtools-input",
        "nbtools-comboinput"
       ],
       "children": [
        "IPY_MODEL_a4b436a31b1142449c173b47436ea9ed",
        "IPY_MODEL_f68a07f822204015884edf24082f0fcd",
        "IPY_MODEL_9b8f2de0f6a341208a05b2fb5828c01b"
       ],
       "layout": "IPY_MODEL_8e6cf011f15a4c76afc3ebf7f12f45d8"
      }
     },
     "9f1ba1263a1243c0ba469e78e66d16c5": {
      "model_module": "@jupyter-widgets/base",
      "model_module_version": "1.2.0",
      "model_name": "LayoutModel",
      "state": {}
     },
     "a1a06bf2f79244ef9f9b5dd46ff026f8": {
      "model_module": "@jupyter-widgets/base",
      "model_module_version": "1.2.0",
      "model_name": "LayoutModel",
      "state": {
       "grid_area": "label",
       "width": "auto"
      }
     },
     "a34531582dec448a8eeac82314251689": {
      "model_module": "@jupyter-widgets/controls",
      "model_module_version": "1.5.0",
      "model_name": "LabelModel",
      "state": {
       "description": "indices",
       "layout": "IPY_MODEL_4c0a0b0f0378468da8bc9fd917e85a62",
       "style": "IPY_MODEL_1e8bb0ecfb144fb1b0fe3d7cac1e685c",
       "value": "indices"
      }
     },
     "a3bf3382394645de95cab5092cd20e2c": {
      "model_module": "@jupyter-widgets/base",
      "model_module_version": "1.2.0",
      "model_name": "LayoutModel",
      "state": {}
     },
     "a4b436a31b1142449c173b47436ea9ed": {
      "model_module": "@jupyter-widgets/controls",
      "model_module_version": "1.5.0",
      "model_name": "LabelModel",
      "state": {
       "description": "track type",
       "layout": "IPY_MODEL_8728db69cf394c4386eb3986e5ffda31",
       "style": "IPY_MODEL_99265cb6d0b94f1a814b7c95a592901d",
       "value": "track type"
      }
     },
     "a514d89b11964cbea74abcf26a232c8b": {
      "model_module": "@jupyter-widgets/controls",
      "model_module_version": "1.5.0",
      "model_name": "ButtonStyleModel",
      "state": {}
     },
     "a7947d2f444648db9cb6bf6fbd55aa83": {
      "model_module": "@jupyter-widgets/base",
      "model_module_version": "1.2.0",
      "model_name": "LayoutModel",
      "state": {
       "grid_area": "input",
       "width": "auto"
      }
     },
     "a9454b1bc2af422b91f0758d51ae589e": {
      "model_module": "@jupyter-widgets/controls",
      "model_module_version": "1.5.0",
      "model_name": "DescriptionStyleModel",
      "state": {
       "description_width": ""
      }
     },
     "aec090713ea84f7bb1a0ca83e5097b1b": {
      "model_module": "@jupyter-widgets/controls",
      "model_module_version": "1.5.0",
      "model_name": "LabelModel",
      "state": {
       "layout": "IPY_MODEL_3d6ceb5ca0414dd2a089a63759c08f18",
       "style": "IPY_MODEL_9282ccdc8f8342b49cfdd7438c4c0df5"
      }
     },
     "b1545b1da236426cb12d316bbd427442": {
      "model_module": "@jupyter-widgets/base",
      "model_module_version": "1.2.0",
      "model_name": "LayoutModel",
      "state": {}
     },
     "b2b292289a7c44e8888b3b7a246ef301": {
      "model_module": "@jupyter-widgets/base",
      "model_module_version": "1.2.0",
      "model_name": "LayoutModel",
      "state": {
       "grid_template_areas": "\n                    \"label input\"\n                    \". description\"\n                ",
       "grid_template_columns": "25% 75%",
       "grid_template_rows": "auto auto",
       "width": "100%"
      }
     },
     "b7b79509bb294e239b35efab1b263166": {
      "model_module": "@jupyter-widgets/controls",
      "model_module_version": "1.5.0",
      "model_name": "DescriptionStyleModel",
      "state": {
       "description_width": ""
      }
     },
     "b8d7f4852d604a43911fc1c8a12e5358": {
      "model_module": "@jupyter-widgets/base",
      "model_module_version": "1.2.0",
      "model_name": "LayoutModel",
      "state": {
       "grid_area": "description",
       "width": "auto"
      }
     },
     "bd7ad078b2ed432a9932c5dce6bc5e15": {
      "model_module": "@jupyter-widgets/base",
      "model_module_version": "1.2.0",
      "model_name": "LayoutModel",
      "state": {}
     },
     "befa8121e11d4c56974dac2f145e041d": {
      "model_module": "@jupyter-widgets/base",
      "model_module_version": "1.2.0",
      "model_name": "LayoutModel",
      "state": {
       "grid_template_areas": "\n                    \"label input\"\n                    \". description\"\n                ",
       "grid_template_columns": "25% 75%",
       "grid_template_rows": "auto auto",
       "width": "100%"
      }
     },
     "bf36b396a04643c496d307d9dd4dd9ba": {
      "model_module": "@jupyter-widgets/controls",
      "model_module_version": "1.5.0",
      "model_name": "DescriptionStyleModel",
      "state": {
       "description_width": ""
      }
     },
     "c022e9f43ab0412a9c557421f9331005": {
      "model_module": "@jupyter-widgets/base",
      "model_module_version": "1.2.0",
      "model_name": "LayoutModel",
      "state": {
       "grid_area": "label",
       "width": "auto"
      }
     },
     "c1248b6cbc7d46bab490729f3267d162": {
      "model_module": "@jupyter-widgets/controls",
      "model_module_version": "1.5.0",
      "model_name": "ButtonModel",
      "state": {
       "_dom_classes": [
        "hidden"
       ],
       "description": "Run",
       "layout": "IPY_MODEL_a3bf3382394645de95cab5092cd20e2c",
       "style": "IPY_MODEL_d4bd122f32044db694a9d9e535301971"
      }
     },
     "c1c7b30cce4947508ffac75713d6d799": {
      "model_module": "@jupyter-widgets/base",
      "model_module_version": "1.2.0",
      "model_name": "LayoutModel",
      "state": {
       "grid_area": "input",
       "width": "auto"
      }
     },
     "c5927fef43ea4f0a9c8b84b47d5009b4": {
      "model_module": "@jupyter-widgets/controls",
      "model_module_version": "1.5.0",
      "model_name": "DescriptionStyleModel",
      "state": {
       "description_width": ""
      }
     },
     "c7e516c371774462bdbc260753af8f08": {
      "model_module": "@jupyter-widgets/base",
      "model_module_version": "1.2.0",
      "model_name": "LayoutModel",
      "state": {
       "grid_template_areas": "\n                    \"label input\"\n                    \". description\"\n                ",
       "grid_template_columns": "25% 75%",
       "grid_template_rows": "auto auto",
       "width": "100%"
      }
     },
     "cbbd9a58b78b4e41a64f9e6a8033763e": {
      "model_module": "@jupyter-widgets/controls",
      "model_module_version": "1.5.0",
      "model_name": "GridBoxModel",
      "state": {
       "_dom_classes": [
        "nbtools-input",
        "nbtools-textinput"
       ],
       "children": [
        "IPY_MODEL_0bd2bbfe53664c438d016ad5ba1fc170",
        "IPY_MODEL_7f217e45aa884fa6a8911068e2cb4951",
        "IPY_MODEL_aec090713ea84f7bb1a0ca83e5097b1b"
       ],
       "layout": "IPY_MODEL_15c5152557ca4ecba07d93ff6a5ab4f1"
      }
     },
     "cc899a4e0d5e4701b9571e6dc8642676": {
      "model_module": "@jupyter-widgets/base",
      "model_module_version": "1.2.0",
      "model_name": "LayoutModel",
      "state": {
       "grid_area": "label",
       "width": "auto"
      }
     },
     "ccf4ee37efa94a15a172e83917792ec4": {
      "model_module": "@jupyter-widgets/base",
      "model_module_version": "1.2.0",
      "model_name": "LayoutModel",
      "state": {
       "grid_area": "input",
       "width": "auto"
      }
     },
     "ce385c31726e41309f5df66aa8fbf1d3": {
      "model_module": "@jupyter-widgets/base",
      "model_module_version": "1.2.0",
      "model_name": "LayoutModel",
      "state": {}
     },
     "ce4db43319194890bcba837e6673a54e": {
      "model_module": "@jupyter-widgets/base",
      "model_module_version": "1.2.0",
      "model_name": "LayoutModel",
      "state": {}
     },
     "d0983d06c27a4600a8a8b69b8eb8102a": {
      "model_module": "@jupyter-widgets/base",
      "model_module_version": "1.2.0",
      "model_name": "LayoutModel",
      "state": {}
     },
     "d18c70b9b3b64a44ba03c7b486b6277b": {
      "model_module": "@jupyter-widgets/controls",
      "model_module_version": "1.5.0",
      "model_name": "ComboboxModel",
      "state": {
       "_dom_classes": [
        "nbtools-menu-attached",
        "nbtools-nosendto"
       ],
       "choices": {
        "Bonobo (MPI-EVA panpan1.1/panPan2)": "panPan2",
        "C. elegans (ce11)": "ce11",
        "Chimp (SAC 2.1.4/panTro4)": "panTro4",
        "Cow (UMD_3.1.1/bosTau8)": "bosTau8",
        "D. melanogaster (dm6)": "dm6",
        "Dog (Broad CanFam3.1/canFam3)": "canFam3",
        "Gorilla (gorGor4.1/gorGor4)": "gorGor4",
        "Human (CRCh37/hg19)": "hg19",
        "Human (GRCh38/hg38)": "hg38",
        "Human (hg18)": "hg18",
        "Mouse (GRCm38/mm10)": "mm10",
        "Pig (SGSC Sscrofa11.1/susScr11)": "susScr11",
        "Rat (RGCS 6.0/rn6)": "rn6",
        "S. cerevisiae (sacCer3)": "sacCer3",
        "Zebrafish (GRCZ10/danRer10)": "danRer10",
        "Zebrafish (GRCZ11/danRer11)": "danRer11"
       },
       "ensure_option": false,
       "kinds": [],
       "layout": "IPY_MODEL_0549cfdc9c564f8d97e24942d4f11421",
       "style": "IPY_MODEL_fecd1501641a4d33bca7803f2b82b268",
       "value": "hg38"
      }
     },
     "d25153e13099421ab943263016808b44": {
      "model_module": "@jupyter-widgets/controls",
      "model_module_version": "1.5.0",
      "model_name": "ButtonStyleModel",
      "state": {}
     },
     "d4bd122f32044db694a9d9e535301971": {
      "model_module": "@jupyter-widgets/controls",
      "model_module_version": "1.5.0",
      "model_name": "ButtonStyleModel",
      "state": {}
     },
     "d62a803bbb5b439880190c05a884fae7": {
      "model_module": "@g2nb/ipyuploads",
      "model_module_version": "0.1.0",
      "model_name": "UploadModel",
      "state": {
       "description_tooltip": null,
       "layout": "IPY_MODEL_93d68ef1765348e6b38a93fa6d9e1d73",
       "style": "IPY_MODEL_14e0b4c7c18c41c4bac0bfb9b7265b82"
      }
     },
     "db81bbca9c104f498b6361fa7e305e8c": {
      "model_module": "@jupyter-widgets/base",
      "model_module_version": "1.2.0",
      "model_name": "LayoutModel",
      "state": {}
     },
     "e2aaa49dcc8d45a8a40b7a0177c37dfd": {
      "model_module": "@jupyter-widgets/controls",
      "model_module_version": "1.5.0",
      "model_name": "DescriptionStyleModel",
      "state": {
       "description_width": ""
      }
     },
     "e39828c4cee94624bcbab20aa95386d0": {
      "model_module": "@jupyter-widgets/controls",
      "model_module_version": "1.5.0",
      "model_name": "LabelModel",
      "state": {
       "description": "Choose the genome for your data.",
       "layout": "IPY_MODEL_817fea94fc454e609ee08defd35b5802",
       "style": "IPY_MODEL_9d72f2beaa894c3cb7d83c365ff9985f",
       "value": "Choose the genome for your data."
      }
     },
     "e58549cd4d194ae6b60d7958b61b993b": {
      "model_module": "@jupyter-widgets/controls",
      "model_module_version": "1.5.0",
      "model_name": "GridBoxModel",
      "state": {
       "_dom_classes": [
        "nbtools-input",
        "nbtools-textinput"
       ],
       "children": [
        "IPY_MODEL_3ecb87ef419a47c69c2baa925f0820a7",
        "IPY_MODEL_0ab86f51763b4d2180195e0b55760a03",
        "IPY_MODEL_f1bd7fb3dc4d4d70b05f82c41dafdc50"
       ],
       "layout": "IPY_MODEL_befa8121e11d4c56974dac2f145e041d"
      }
     },
     "e8a97acbc64e418abd7d2f8acf8afad6": {
      "model_module": "@jupyter-widgets/output",
      "model_module_version": "1.0.0",
      "model_name": "OutputModel",
      "state": {
       "layout": "IPY_MODEL_ce4db43319194890bcba837e6673a54e"
      }
     },
     "e8d906aa634844779fd9fe036cd85fa5": {
      "model_module": "@jupyter-widgets/controls",
      "model_module_version": "1.5.0",
      "model_name": "DescriptionStyleModel",
      "state": {
       "description_width": ""
      }
     },
     "eba97ac96bc9402eb319e164d6a7cb62": {
      "model_module": "@jupyter-widgets/base",
      "model_module_version": "1.2.0",
      "model_name": "LayoutModel",
      "state": {
       "grid_area": "label",
       "width": "auto"
      }
     },
     "edcb4784962949e3b6311f99338af1e3": {
      "model_module": "@jupyter-widgets/controls",
      "model_module_version": "1.5.0",
      "model_name": "DescriptionStyleModel",
      "state": {
       "description_width": ""
      }
     },
     "f1aae0f85b43403eb343bd32054984cb": {
      "model_module": "@jupyter-widgets/controls",
      "model_module_version": "1.5.0",
      "model_name": "VBoxModel",
      "state": {
       "children": [
        "IPY_MODEL_6a854d4d68ad4312be14dae3077a7adc",
        "IPY_MODEL_78e9a2f22f0448e4ad1a0ec918955d5f"
       ],
       "layout": "IPY_MODEL_b1545b1da236426cb12d316bbd427442"
      }
     },
     "f1bd7fb3dc4d4d70b05f82c41dafdc50": {
      "model_module": "@jupyter-widgets/controls",
      "model_module_version": "1.5.0",
      "model_name": "LabelModel",
      "state": {
       "description": "Provide a locus or gene of interest for your data",
       "layout": "IPY_MODEL_b8d7f4852d604a43911fc1c8a12e5358",
       "style": "IPY_MODEL_29b06afe32d74aaeb1fd287b2c479c1f",
       "value": "Provide a locus or gene of interest for your data"
      }
     },
     "f34cb732f5424b088c9409f6c4e939f8": {
      "model_module": "@jupyter-widgets/base",
      "model_module_version": "1.2.0",
      "model_name": "LayoutModel",
      "state": {
       "grid_area": "label",
       "width": "auto"
      }
     },
     "f68a07f822204015884edf24082f0fcd": {
      "model_module": "@jupyter-widgets/controls",
      "model_module_version": "1.5.0",
      "model_name": "ComboboxModel",
      "state": {
       "_dom_classes": [
        "nbtools-menu-attached"
       ],
       "choices": {
        "": "",
        "alignment": "alignment",
        "annotation": "annotation",
        "arc": "arc",
        "bedtype": "bedtype",
        "gwas": "gwas",
        "interaction": "interaction",
        "mut": "mut",
        "seg": "seg",
        "variant": "variant",
        "wig": "wig"
       },
       "ensure_option": false,
       "kinds": [],
       "layout": "IPY_MODEL_8c8aadc94f424f9287ea3f153db76799",
       "style": "IPY_MODEL_edcb4784962949e3b6311f99338af1e3"
      }
     },
     "f93e29ba24c54645b4048d66486d2982": {
      "model_module": "@jupyter-widgets/base",
      "model_module_version": "1.2.0",
      "model_name": "LayoutModel",
      "state": {
       "grid_area": "description",
       "width": "auto"
      }
     },
     "fec6f7ab7d624b13bf5110b659110e29": {
      "model_module": "@jupyter-widgets/controls",
      "model_module_version": "1.5.0",
      "model_name": "DescriptionStyleModel",
      "state": {
       "description_width": ""
      }
     },
     "fecd1501641a4d33bca7803f2b82b268": {
      "model_module": "@jupyter-widgets/controls",
      "model_module_version": "1.5.0",
      "model_name": "DescriptionStyleModel",
      "state": {
       "description_width": ""
      }
     }
    },
    "version_major": 2,
    "version_minor": 0
   }
  }
 },
 "nbformat": 4,
 "nbformat_minor": 5
}
